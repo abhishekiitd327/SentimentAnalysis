{
  "nbformat": 4,
  "nbformat_minor": 0,
  "metadata": {
    "colab": {
      "name": "Embedding_Keras.ipynb",
      "provenance": [],
      "collapsed_sections": []
    },
    "kernelspec": {
      "name": "python3",
      "display_name": "Python 3"
    },
    "accelerator": "GPU"
  },
  "cells": [
    {
      "cell_type": "code",
      "metadata": {
        "id": "MkOJR3WOVdAF",
        "colab_type": "code",
        "colab": {}
      },
      "source": [
        "from keras.layers import Embedding\n",
        "from keras.models import Sequential\n",
        "from keras.datasets import imdb\n",
        "import keras as K\n",
        "import numpy as np"
      ],
      "execution_count": 0,
      "outputs": []
    },
    {
      "cell_type": "code",
      "metadata": {
        "id": "MG3FkBEEWC4i",
        "colab_type": "code",
        "outputId": "7cc8f48c-b0c5-414f-a5a5-94e2fd70934c",
        "colab": {
          "base_uri": "https://localhost:8080/",
          "height": 52
        }
      },
      "source": [
        "max_words = 20000\n",
        "\n",
        "(train_x, train_y), (test_x, test_y) = imdb.load_data(num_words=max_words)\n",
        "\n",
        "max_review_length = 80\n",
        "train_x = K.preprocessing.sequence.pad_sequences(train_x, truncating='pre', padding='pre', maxlen=max_review_length)\n",
        "test_x = K.preprocessing.sequence.pad_sequences(test_x, truncating='pre', padding='pre', maxlen=max_review_length)"
      ],
      "execution_count": 0,
      "outputs": [
        {
          "output_type": "stream",
          "text": [
            "Downloading data from https://s3.amazonaws.com/text-datasets/imdb.npz\n",
            "17465344/17464789 [==============================] - 2s 0us/step\n"
          ],
          "name": "stdout"
        }
      ]
    },
    {
      "cell_type": "code",
      "metadata": {
        "id": "y35k9nNOVm1m",
        "colab_type": "code",
        "outputId": "8ae5ea1d-47ec-45c3-ec93-2515bb037a55",
        "colab": {
          "base_uri": "https://localhost:8080/",
          "height": 415
        }
      },
      "source": [
        "model = Sequential()\n",
        "embedding_length = 5\n",
        "max_words = 1000\n",
        "max_sentence_length = 10\n",
        "model.add(Embedding(max_words, embedding_length, input_length=max_sentence_length))\n",
        "# the model will take as input an integer matrix of size (batch, input_length).\n",
        "# the largest integer (i.e. word index) in the input should be\n",
        "# no larger than max_words-1 (vocabulary size).\n",
        "# now model.output_shape == (None, max_review_length, embedding_length), where None is the batch dimension.\n",
        "\n",
        "\n",
        "input_array = input_array = np.random.randint(max_words, size=(2, max_sentence_length)) #train_x[0]\n",
        "print(input_array, np.shape(input_array))\n",
        "\n",
        "model.compile('rmsprop', 'mse')\n",
        "output_array = model.predict(input_array)\n",
        "#assert output_array.shape == (32, 10, 64)\n",
        "print(output_array, np.shape(output_array))"
      ],
      "execution_count": 0,
      "outputs": [
        {
          "output_type": "stream",
          "text": [
            "[[496 304 735 536 257 471 499 452 509 143]\n",
            " [430 577 100 776 236 489 362 270 501 439]] (2, 10)\n",
            "[[[-0.04356572 -0.02824876  0.03866962  0.04219128 -0.03202637]\n",
            "  [-0.04589695 -0.01810889  0.04222479  0.01211461  0.03330297]\n",
            "  [ 0.01695061 -0.00493645  0.0361867  -0.00280672 -0.01270933]\n",
            "  [ 0.03185328 -0.03797454 -0.00048887 -0.02884183 -0.0480752 ]\n",
            "  [-0.01533478  0.01668726  0.00622022 -0.04528145  0.0045926 ]\n",
            "  [-0.01999518 -0.00843755 -0.02578173 -0.00021812 -0.04908135]\n",
            "  [ 0.04142855 -0.02666166  0.02583506 -0.01988607  0.03066779]\n",
            "  [-0.00958717  0.02961511 -0.04021627 -0.03921432  0.03144628]\n",
            "  [-0.04587152  0.04167854 -0.03687809  0.00402248  0.03278175]\n",
            "  [ 0.04034099 -0.02773658  0.00932688  0.03555271  0.01098888]]\n",
            "\n",
            " [[-0.04894861  0.03027191  0.01834135 -0.00676463 -0.00940288]\n",
            "  [ 0.02977796  0.00265422  0.03600073  0.0260287   0.00629942]\n",
            "  [-0.02169105  0.03370566  0.02442472 -0.03113916  0.03650936]\n",
            "  [ 0.02264759  0.01839076 -0.01925394 -0.04176837  0.00086667]\n",
            "  [-0.01061567 -0.00729333 -0.00559219  0.0344363   0.02205271]\n",
            "  [-0.01104011 -0.04946987 -0.03384919  0.04172872  0.02420166]\n",
            "  [ 0.01483344  0.01930021 -0.03451568  0.01801214  0.03760873]\n",
            "  [-0.04035575  0.02383096 -0.0040234   0.0309392   0.01872664]\n",
            "  [ 0.03531813 -0.01288656 -0.02623545 -0.02106633  0.03080238]\n",
            "  [-0.02487394 -0.0220556  -0.02776872 -0.02569424 -0.03874306]]] (2, 10, 5)\n"
          ],
          "name": "stdout"
        }
      ]
    },
    {
      "cell_type": "code",
      "metadata": {
        "id": "6Jg5THp3VvNn",
        "colab_type": "code",
        "colab": {}
      },
      "source": [
        ""
      ],
      "execution_count": 0,
      "outputs": []
    },
    {
      "cell_type": "markdown",
      "metadata": {
        "id": "11xPrTcsf924",
        "colab_type": "text"
      },
      "source": [
        "# One hot representation"
      ]
    },
    {
      "cell_type": "code",
      "metadata": {
        "id": "LQrfhu62gBsu",
        "colab_type": "code",
        "outputId": "359f92e7-f5f9-45d5-ffb7-7a9d7b4fae40",
        "colab": {
          "base_uri": "https://localhost:8080/",
          "height": 117
        }
      },
      "source": [
        "from keras.preprocessing.text import one_hot\n",
        "\n",
        "#define documents\n",
        "docs = ['glass of orange juice',\n",
        "        'bottle of mango juice',\n",
        "        'glass of mango shake',\n",
        "        'drink bottle of banana shake',\n",
        "        'I want a glass of cold water',\n",
        "        'The king and the queen',\n",
        "        'man and woman']\n",
        "\n",
        "vocab_size = 10000\n",
        "\n",
        "encoded_docs = [one_hot(d, vocab_size) for d in docs]\n",
        "print(encoded_docs)"
      ],
      "execution_count": 1,
      "outputs": [
        {
          "output_type": "stream",
          "text": [
            "Using TensorFlow backend.\n"
          ],
          "name": "stderr"
        },
        {
          "output_type": "display_data",
          "data": {
            "text/html": [
              "<p style=\"color: red;\">\n",
              "The default version of TensorFlow in Colab will soon switch to TensorFlow 2.x.<br>\n",
              "We recommend you <a href=\"https://www.tensorflow.org/guide/migrate\" target=\"_blank\">upgrade</a> now \n",
              "or ensure your notebook will continue to use TensorFlow 1.x via the <code>%tensorflow_version 1.x</code> magic:\n",
              "<a href=\"https://colab.research.google.com/notebooks/tensorflow_version.ipynb\" target=\"_blank\">more info</a>.</p>\n"
            ],
            "text/plain": [
              "<IPython.core.display.HTML object>"
            ]
          },
          "metadata": {
            "tags": []
          }
        },
        {
          "output_type": "stream",
          "text": [
            "[[8637, 5024, 2523, 882], [6178, 5024, 1415, 882], [8637, 5024, 1415, 4717], [3223, 6178, 5024, 3367, 4717], [3604, 4779, 5517, 8637, 5024, 7488, 8431], [6544, 7605, 8978, 6544, 6292], [6531, 8978, 8366]]\n"
          ],
          "name": "stdout"
        }
      ]
    },
    {
      "cell_type": "markdown",
      "metadata": {
        "id": "ZCw-E8NbpXlF",
        "colab_type": "text"
      },
      "source": [
        "# Word Embeddings"
      ]
    },
    {
      "cell_type": "code",
      "metadata": {
        "id": "tge-coMgUnrY",
        "colab_type": "code",
        "outputId": "0b4b61e9-fe6f-4f9e-f98a-46cfa5945170",
        "colab": {
          "base_uri": "https://localhost:8080/",
          "height": 136
        }
      },
      "source": [
        "from keras.preprocessing.sequence import pad_sequences\n",
        "from keras.models import Sequential\n",
        "from keras.layers import Embedding, LSTM\n",
        "\n",
        "import numpy as np\n",
        "\n",
        "embedding_length = 5\n",
        "max_doc_len = 10\n",
        "\n",
        "encoded_docs = pad_sequences(encoded_docs, truncating='post', padding='post', maxlen=max_doc_len)\n",
        "\n",
        "print(encoded_docs)\n"
      ],
      "execution_count": 4,
      "outputs": [
        {
          "output_type": "stream",
          "text": [
            "[[8637 5024 2523  882    0    0    0    0    0    0]\n",
            " [6178 5024 1415  882    0    0    0    0    0    0]\n",
            " [8637 5024 1415 4717    0    0    0    0    0    0]\n",
            " [3223 6178 5024 3367 4717    0    0    0    0    0]\n",
            " [3604 4779 5517 8637 5024 7488 8431    0    0    0]\n",
            " [6544 7605 8978 6544 6292    0    0    0    0    0]\n",
            " [6531 8978 8366    0    0    0    0    0    0    0]]\n"
          ],
          "name": "stdout"
        }
      ]
    },
    {
      "cell_type": "code",
      "metadata": {
        "id": "-Ti0fdAuu_2G",
        "colab_type": "code",
        "outputId": "a9434ea3-2e19-470c-e7f4-bf3ec17945e4",
        "colab": {
          "base_uri": "https://localhost:8080/",
          "height": 2142
        }
      },
      "source": [
        "model = Sequential()\n",
        "\n",
        "model.add(Embedding(vocab_size, embedding_length, input_length=max_doc_len))\n",
        "model.add(LSTM(units=64))\n",
        "\n",
        "model.compile('rmsprop', 'mse')\n",
        "\n",
        "model.summary()\n",
        "\n",
        "output = model.predict(encoded_docs)\n",
        "print(output.shape)\n",
        "print(output)"
      ],
      "execution_count": 5,
      "outputs": [
        {
          "output_type": "stream",
          "text": [
            "Model: \"sequential_2\"\n",
            "_________________________________________________________________\n",
            "Layer (type)                 Output Shape              Param #   \n",
            "=================================================================\n",
            "embedding_2 (Embedding)      (None, 10, 5)             50000     \n",
            "_________________________________________________________________\n",
            "lstm_1 (LSTM)                (None, 64)                17920     \n",
            "=================================================================\n",
            "Total params: 67,920\n",
            "Trainable params: 67,920\n",
            "Non-trainable params: 0\n",
            "_________________________________________________________________\n",
            "(7, 64)\n",
            "[[ 1.04733568e-03  5.76076843e-03 -3.08642094e-03  5.59022956e-05\n",
            "   3.54336784e-03  4.84221568e-03 -5.02577983e-03 -4.86248033e-03\n",
            "   4.98130126e-03  1.93051365e-03  5.80177410e-03 -2.94320378e-03\n",
            "   1.02652004e-03 -3.34111438e-03  2.16091122e-03  2.14286172e-03\n",
            "   7.17660805e-05 -1.04478898e-03  1.12592604e-03 -1.60318194e-03\n",
            "   3.02541914e-04 -7.94390799e-04 -3.18971055e-04  3.61634279e-03\n",
            "  -2.35588686e-03 -5.14878193e-04 -7.87768688e-04 -6.16666046e-04\n",
            "   1.63277762e-03 -1.90349703e-03  2.04606401e-03 -1.44242274e-03\n",
            "   3.20490822e-03 -3.35711683e-03  3.78401903e-03 -6.40395191e-03\n",
            "   8.64347816e-03 -1.82739983e-03  1.57842558e-04  6.07663393e-03\n",
            "  -3.45733832e-04  1.21582113e-03  1.15620461e-03 -3.40989954e-03\n",
            "   6.54599583e-03 -7.33172055e-03  4.54988377e-03  2.42131832e-03\n",
            "  -2.52514170e-03 -4.84282523e-03 -1.57443096e-03 -3.13523179e-03\n",
            "   7.46322470e-03  3.66132893e-03  5.90088218e-03 -1.43897929e-03\n",
            "  -6.79817144e-03  1.93499238e-03  5.84054366e-03  3.98115546e-04\n",
            "   3.90827699e-05  4.65444615e-03  1.69994857e-03 -2.06134934e-03]\n",
            " [ 7.03724218e-04  5.74353943e-03 -2.67152139e-03 -1.10041918e-04\n",
            "   3.62933101e-03  4.55896230e-03 -5.18780900e-03 -4.99597192e-03\n",
            "   4.81530931e-03  1.84107479e-03  5.60580567e-03 -3.77074373e-03\n",
            "   2.22950839e-04 -2.72764871e-03  2.03028903e-03  2.70577730e-03\n",
            "  -3.77554796e-04 -1.19537220e-03  8.40606983e-04 -1.44942757e-03\n",
            "  -6.76178979e-06  7.32711851e-05  1.08729975e-04  3.38472961e-03\n",
            "  -3.00377235e-03  1.70696279e-04 -6.55577634e-04 -9.72351409e-04\n",
            "   1.64013472e-03 -2.32228544e-03  1.87527342e-03 -1.52545108e-03\n",
            "   3.28655099e-03 -3.67163029e-03  3.71669512e-03 -6.75728871e-03\n",
            "   8.58255289e-03 -1.95455109e-03 -1.84551915e-04  5.47627918e-03\n",
            "  -8.17192995e-05  1.18726760e-03  1.49195653e-03 -3.27104633e-03\n",
            "   7.10877450e-03 -7.08091771e-03  4.59641730e-03  2.54421681e-03\n",
            "  -2.40078848e-03 -4.86773532e-03 -1.87681941e-03 -3.34941130e-03\n",
            "   7.41506601e-03  3.92651558e-03  6.06373372e-03 -1.08235260e-03\n",
            "  -6.68320293e-03  2.13348563e-03  5.47168730e-03  5.48592070e-04\n",
            "  -3.91237380e-04  4.56115557e-03  1.77995302e-03 -2.05531437e-03]\n",
            " [ 1.07644137e-03  5.87809039e-03 -3.10046179e-03  4.60963893e-05\n",
            "   3.55603616e-03  5.19964471e-03 -5.16148377e-03 -5.10128494e-03\n",
            "   5.58874104e-03  2.27805320e-03  5.75756095e-03 -3.23374127e-03\n",
            "   3.09776195e-04 -2.75815837e-03  2.89369258e-03  2.55821226e-03\n",
            "  -1.46944134e-04 -8.77562619e-04  8.70243297e-04 -1.69806508e-03\n",
            "   1.32171990e-04 -5.10219776e-04 -2.34065237e-06  3.88826989e-03\n",
            "  -2.84572318e-03  6.05682028e-04 -7.03711994e-04 -8.01844348e-04\n",
            "   2.17993744e-03 -2.15864740e-03  2.22659041e-03 -9.67197178e-04\n",
            "   2.86059570e-03 -4.56627132e-03  4.20710398e-03 -6.60144724e-03\n",
            "   9.15754959e-03 -2.19434523e-03 -2.37758606e-04  6.39313459e-03\n",
            "  -2.70299002e-04  9.49689012e-04  1.49438332e-03 -4.08415589e-03\n",
            "   7.00463913e-03 -7.94497877e-03  5.17552905e-03  2.13731918e-03\n",
            "  -2.33962899e-03 -5.84741263e-03 -1.42205390e-03 -2.87133758e-03\n",
            "   8.10311921e-03  3.46775376e-03  6.43403875e-03 -1.69859477e-03\n",
            "  -7.00983917e-03  2.09885743e-03  5.74862817e-03  1.74878733e-04\n",
            "   4.26766201e-05  4.70570894e-03  2.50156270e-03 -2.41421233e-03]\n",
            " [ 1.40375178e-03  4.95914370e-03 -1.96860405e-03 -8.23826587e-04\n",
            "   3.67035298e-03  4.10818448e-03 -5.39892353e-03 -4.92137158e-03\n",
            "   4.99176560e-03  1.00265862e-03  5.34047140e-03 -3.59999831e-03\n",
            "  -2.71193509e-04 -2.06090882e-03  1.91932474e-03  2.65088724e-03\n",
            "  -2.06757279e-04 -1.58182310e-03  8.37333733e-04 -2.13547191e-03\n",
            "   4.73989901e-04  8.53805919e-04 -2.34524705e-04  2.66550621e-03\n",
            "  -2.95186788e-03  1.29897482e-04 -6.83795544e-04 -1.46295235e-03\n",
            "   2.26362213e-03 -2.54982617e-03  1.30167697e-03 -1.14734343e-03\n",
            "   3.29197315e-03 -4.24042717e-03  3.37423058e-03 -6.74877642e-03\n",
            "   7.87667092e-03 -2.72521889e-03 -9.67760978e-04  5.52512100e-03\n",
            "   7.94683641e-04  1.04245602e-03  6.20218110e-04 -3.02708289e-03\n",
            "   6.19435497e-03 -6.85671438e-03  4.07375908e-03  2.63283309e-03\n",
            "  -1.67150737e-03 -4.96986462e-03 -1.52977032e-03 -3.29761184e-03\n",
            "   7.79557740e-03  3.83473746e-03  6.22275844e-03 -9.80670447e-04\n",
            "  -6.66377228e-03  2.16196291e-03  5.44363493e-03  2.76256585e-04\n",
            "   1.94302469e-04  4.71747248e-03  2.42767530e-03 -1.96605432e-03]\n",
            " [ 9.24231193e-04  4.08083340e-03 -2.09785951e-03 -1.14175933e-03\n",
            "   2.64164247e-03  3.38593638e-03 -3.75711010e-03 -4.08750074e-03\n",
            "   3.77809093e-03 -9.99591080e-04  4.16339608e-03 -2.17770785e-03\n",
            "   1.37261243e-03 -2.39498354e-03  1.61281350e-04  1.90927542e-03\n",
            "   3.84796847e-04 -1.92167703e-03  4.42795630e-04 -3.17156827e-03\n",
            "   1.36795023e-03 -1.02973124e-03 -2.37952336e-03  2.25861813e-03\n",
            "   5.41085319e-04 -1.47550658e-03  3.08804447e-04 -8.53197300e-04\n",
            "   2.80811638e-03 -1.11893285e-04  2.03588954e-03 -1.27477758e-03\n",
            "   1.71006087e-03 -3.64081282e-03  3.03486944e-03 -4.92646359e-03\n",
            "   5.74177364e-03 -2.26433063e-03 -1.44064240e-03  6.12950372e-03\n",
            "  -1.89248734e-04  6.30164752e-04 -6.60026621e-04 -3.63168912e-03\n",
            "   3.26794037e-03 -5.68869244e-03  6.18940801e-04  2.04764772e-03\n",
            "  -1.73481659e-03 -2.43393658e-03  3.39213555e-04 -2.28818296e-03\n",
            "   5.93437580e-03  4.35993867e-03  3.77209205e-03  5.63624781e-04\n",
            "  -6.56491518e-03  5.82125969e-04  5.26955491e-03  9.69262386e-04\n",
            "   1.85489794e-03  3.51995975e-03  1.44987681e-03  1.23847072e-04]\n",
            " [ 1.11595553e-03  5.67572145e-03 -3.12653952e-03  1.57103219e-04\n",
            "   3.53212655e-03  4.68873000e-03 -5.05606830e-03 -4.60131979e-03\n",
            "   5.06001851e-03  1.96532276e-03  5.80777647e-03 -2.55123992e-03\n",
            "   1.31202070e-03 -3.61430761e-03  2.13143160e-03  1.81935716e-03\n",
            "   4.29681037e-04 -1.05146912e-03  1.33175426e-03 -1.61185837e-03\n",
            "   5.02940267e-04 -9.09489056e-04 -3.56940611e-04  3.39499628e-03\n",
            "  -2.25937902e-03 -1.09934621e-03 -8.51724471e-04 -4.93488682e-04\n",
            "   1.40921748e-03 -1.92281953e-03  1.69967464e-03 -1.42971938e-03\n",
            "   3.35997855e-03 -2.98484298e-03  3.61577165e-03 -6.24873117e-03\n",
            "   8.47457629e-03 -1.68635731e-03  4.73831431e-04  6.08715601e-03\n",
            "  -1.76044894e-04  1.19313726e-03  9.52769129e-04 -3.02316342e-03\n",
            "   6.23219274e-03 -7.19894422e-03  4.43028007e-03  2.53219600e-03\n",
            "  -2.46168650e-03 -4.58517857e-03 -1.50597165e-03 -3.11084022e-03\n",
            "   7.36005092e-03  3.38439411e-03  5.72715560e-03 -1.77878316e-03\n",
            "  -6.68836758e-03  1.76914025e-03  5.87328291e-03  3.98203847e-04\n",
            "   8.87583446e-05  4.78843320e-03  1.47745886e-03 -2.11858936e-03]\n",
            " [ 7.98835594e-04  7.12668756e-03 -3.76205915e-03  2.37574684e-04\n",
            "   4.06956021e-03  5.44654066e-03 -5.24538569e-03 -5.01992647e-03\n",
            "   6.22743042e-03  1.92576111e-03  5.68636693e-03 -3.26845888e-03\n",
            "   4.21508099e-04 -3.05835251e-03  2.54869158e-03  3.45684146e-03\n",
            "   7.56262380e-05 -1.06857647e-03  1.30679144e-03 -2.52750609e-03\n",
            "  -4.44343343e-04 -5.50254364e-04 -2.29270212e-04  3.54398810e-03\n",
            "  -2.67027668e-03 -5.05218981e-04 -5.24624484e-04 -1.35952700e-03\n",
            "   2.55984114e-03 -1.89649686e-03  2.65936088e-03 -1.32966100e-03\n",
            "   3.20834736e-03 -4.83255601e-03  4.35908139e-03 -6.67005870e-03\n",
            "   9.00919735e-03 -2.20994931e-03  3.54164251e-04  6.83301361e-03\n",
            "   2.78005056e-04  2.42637238e-04  1.73241622e-03 -3.71587020e-03\n",
            "   7.04107480e-03 -9.32576042e-03  4.23204526e-03  2.75314273e-03\n",
            "  -2.10575107e-03 -5.51734352e-03 -1.35200832e-03 -3.40441475e-03\n",
            "   8.35637283e-03  4.69973637e-03  6.56021340e-03 -1.79884629e-03\n",
            "  -7.89602846e-03  2.00745137e-03  6.27053622e-03  6.29484130e-05\n",
            "   3.75084928e-04  5.80533268e-03  1.94893440e-03 -2.38382467e-03]]\n"
          ],
          "name": "stdout"
        }
      ]
    },
    {
      "cell_type": "markdown",
      "metadata": {
        "id": "y5wSoDs6apqX",
        "colab_type": "text"
      },
      "source": [
        "##Putting it together\n",
        "#Sentiment Analysis in Keras"
      ]
    },
    {
      "cell_type": "markdown",
      "metadata": {
        "id": "6HCdVXd4dIHD",
        "colab_type": "text"
      },
      "source": [
        "Import libraries and dataset"
      ]
    },
    {
      "cell_type": "code",
      "metadata": {
        "id": "lBBWwNwXa0NT",
        "colab_type": "code",
        "colab": {
          "base_uri": "https://localhost:8080/",
          "height": 165
        },
        "outputId": "1a02f888-e9f2-4c9e-e9a4-ffbc841521ab"
      },
      "source": [
        "import keras\n",
        "from keras.preprocessing import sequence\n",
        "from keras.models import Sequential\n",
        "from keras.layers import Dense, Embedding\n",
        "from keras.layers import LSTM\n",
        "from keras.datasets import imdb\n",
        "\n",
        "max_words = 20000\n",
        "\n",
        "print('Loading data...')\n",
        "(x_train, y_train), (x_test, y_test) = imdb.load_data(num_words=max_words)\n",
        "print(len(x_train), 'train sequences')\n",
        "print(len(x_test), 'test sequences')"
      ],
      "execution_count": 1,
      "outputs": [
        {
          "output_type": "stream",
          "text": [
            "Using TensorFlow backend.\n"
          ],
          "name": "stderr"
        },
        {
          "output_type": "display_data",
          "data": {
            "text/html": [
              "<p style=\"color: red;\">\n",
              "The default version of TensorFlow in Colab will soon switch to TensorFlow 2.x.<br>\n",
              "We recommend you <a href=\"https://www.tensorflow.org/guide/migrate\" target=\"_blank\">upgrade</a> now \n",
              "or ensure your notebook will continue to use TensorFlow 1.x via the <code>%tensorflow_version 1.x</code> magic:\n",
              "<a href=\"https://colab.research.google.com/notebooks/tensorflow_version.ipynb\" target=\"_blank\">more info</a>.</p>\n"
            ],
            "text/plain": [
              "<IPython.core.display.HTML object>"
            ]
          },
          "metadata": {
            "tags": []
          }
        },
        {
          "output_type": "stream",
          "text": [
            "Loading data...\n",
            "Downloading data from https://s3.amazonaws.com/text-datasets/imdb.npz\n",
            "17465344/17464789 [==============================] - 1s 0us/step\n",
            "25000 train sequences\n",
            "25000 test sequences\n"
          ],
          "name": "stdout"
        }
      ]
    },
    {
      "cell_type": "markdown",
      "metadata": {
        "id": "QmcFMI5xdSLo",
        "colab_type": "text"
      },
      "source": [
        "Pre-processing"
      ]
    },
    {
      "cell_type": "code",
      "metadata": {
        "id": "8sO2izaIblIB",
        "colab_type": "code",
        "colab": {
          "base_uri": "https://localhost:8080/",
          "height": 51
        },
        "outputId": "bcba06bd-dae2-4144-d41b-6b2eb6780738"
      },
      "source": [
        "# cut texts after this number of words (among top max_features most common words)\n",
        "max_review_length = 80\n",
        "\n",
        "x_train = sequence.pad_sequences(x_train, truncating='pre', padding='pre', maxlen=max_review_length)\n",
        "x_test = sequence.pad_sequences(x_test, truncating='pre', padding='pre', maxlen=max_review_length)\n",
        "\n",
        "print('x_train shape:', x_train.shape)\n",
        "print('x_test shape:', x_test.shape)"
      ],
      "execution_count": 2,
      "outputs": [
        {
          "output_type": "stream",
          "text": [
            "x_train shape: (25000, 80)\n",
            "x_test shape: (25000, 80)\n"
          ],
          "name": "stdout"
        }
      ]
    },
    {
      "cell_type": "markdown",
      "metadata": {
        "id": "a2bYFCzkdWF3",
        "colab_type": "text"
      },
      "source": [
        "Build the model"
      ]
    },
    {
      "cell_type": "code",
      "metadata": {
        "id": "SdTLNwMZdXxx",
        "colab_type": "code",
        "colab": {
          "base_uri": "https://localhost:8080/",
          "height": 275
        },
        "outputId": "3876b3c0-202f-4469-9816-42397af068f6"
      },
      "source": [
        "print('Build model...')\n",
        "embedding_length = 64\n",
        "model = Sequential()\n",
        "model.add(Embedding(input_dim=max_words, output_dim=embedding_length, input_length=max_review_length))\n",
        "model.add(LSTM(units=64, input_shape=(max_review_length, embedding_length), return_sequences=False, unroll=True))\n",
        "model.add(Dense(1, activation='sigmoid'))\n",
        "\n",
        "# try using different optimizers and different optimizer configs\n",
        "model.compile(loss='binary_crossentropy',\n",
        "              optimizer='adam',\n",
        "              metrics=['accuracy'])\n"
      ],
      "execution_count": 3,
      "outputs": [
        {
          "output_type": "stream",
          "text": [
            "Build model...\n",
            "WARNING:tensorflow:From /usr/local/lib/python3.6/dist-packages/keras/backend/tensorflow_backend.py:66: The name tf.get_default_graph is deprecated. Please use tf.compat.v1.get_default_graph instead.\n",
            "\n",
            "WARNING:tensorflow:From /usr/local/lib/python3.6/dist-packages/keras/backend/tensorflow_backend.py:541: The name tf.placeholder is deprecated. Please use tf.compat.v1.placeholder instead.\n",
            "\n",
            "WARNING:tensorflow:From /usr/local/lib/python3.6/dist-packages/keras/backend/tensorflow_backend.py:4432: The name tf.random_uniform is deprecated. Please use tf.random.uniform instead.\n",
            "\n",
            "WARNING:tensorflow:From /usr/local/lib/python3.6/dist-packages/keras/optimizers.py:793: The name tf.train.Optimizer is deprecated. Please use tf.compat.v1.train.Optimizer instead.\n",
            "\n",
            "WARNING:tensorflow:From /usr/local/lib/python3.6/dist-packages/keras/backend/tensorflow_backend.py:3657: The name tf.log is deprecated. Please use tf.math.log instead.\n",
            "\n",
            "WARNING:tensorflow:From /usr/local/lib/python3.6/dist-packages/tensorflow_core/python/ops/nn_impl.py:183: where (from tensorflow.python.ops.array_ops) is deprecated and will be removed in a future version.\n",
            "Instructions for updating:\n",
            "Use tf.where in 2.0, which has the same broadcast rule as np.where\n"
          ],
          "name": "stdout"
        }
      ]
    },
    {
      "cell_type": "markdown",
      "metadata": {
        "id": "bXHvbvYTemOm",
        "colab_type": "text"
      },
      "source": [
        "Visualize the model"
      ]
    },
    {
      "cell_type": "code",
      "metadata": {
        "id": "mSqWgeMHen45",
        "colab_type": "code",
        "colab": {
          "base_uri": "https://localhost:8080/",
          "height": 660
        },
        "outputId": "1cac3a1e-a061-461f-845c-9bfc6d6dd7fd"
      },
      "source": [
        "#Visualize\n",
        "model.summary()\n",
        "\n",
        "from keras.utils import plot_model\n",
        "plot_model(model, show_shapes=True, to_file='sent_analysis_model.png')"
      ],
      "execution_count": 4,
      "outputs": [
        {
          "output_type": "stream",
          "text": [
            "Model: \"sequential_1\"\n",
            "_________________________________________________________________\n",
            "Layer (type)                 Output Shape              Param #   \n",
            "=================================================================\n",
            "embedding_1 (Embedding)      (None, 80, 64)            1280000   \n",
            "_________________________________________________________________\n",
            "lstm_1 (LSTM)                (None, 64)                33024     \n",
            "_________________________________________________________________\n",
            "dense_1 (Dense)              (None, 1)                 65        \n",
            "=================================================================\n",
            "Total params: 1,313,089\n",
            "Trainable params: 1,313,089\n",
            "Non-trainable params: 0\n",
            "_________________________________________________________________\n"
          ],
          "name": "stdout"
        },
        {
          "output_type": "execute_result",
          "data": {
            "image/png": "[encoded data removed]",
            "text/plain": [
              "<IPython.core.display.Image object>"
            ]
          },
          "metadata": {
            "tags": []
          },
          "execution_count": 4
        }
      ]
    },
    {
      "cell_type": "markdown",
      "metadata": {
        "id": "rlivpi33etbD",
        "colab_type": "text"
      },
      "source": [
        "Train the model"
      ]
    },
    {
      "cell_type": "code",
      "metadata": {
        "id": "bW0cXNCSs_jV",
        "colab_type": "code",
        "colab": {
          "base_uri": "https://localhost:8080/",
          "height": 700
        },
        "outputId": "4643bb26-e6db-430a-9a35-f286aeaa1310"
      },
      "source": [
        "print('Training...')\n",
        "batch_size = 32\n",
        "\n",
        "model.fit(x_train, y_train,\n",
        "          batch_size = batch_size,\n",
        "          epochs=10,\n",
        "          validation_data = (x_test, y_test))"
      ],
      "execution_count": 5,
      "outputs": [
        {
          "output_type": "stream",
          "text": [
            "Training...\n",
            "WARNING:tensorflow:From /usr/local/lib/python3.6/dist-packages/keras/backend/tensorflow_backend.py:1033: The name tf.assign_add is deprecated. Please use tf.compat.v1.assign_add instead.\n",
            "\n",
            "WARNING:tensorflow:From /usr/local/lib/python3.6/dist-packages/keras/backend/tensorflow_backend.py:1020: The name tf.assign is deprecated. Please use tf.compat.v1.assign instead.\n",
            "\n",
            "WARNING:tensorflow:From /usr/local/lib/python3.6/dist-packages/keras/backend/tensorflow_backend.py:3005: The name tf.Session is deprecated. Please use tf.compat.v1.Session instead.\n",
            "\n",
            "Train on 25000 samples, validate on 25000 samples\n",
            "Epoch 1/10\n",
            "WARNING:tensorflow:From /usr/local/lib/python3.6/dist-packages/keras/backend/tensorflow_backend.py:190: The name tf.get_default_session is deprecated. Please use tf.compat.v1.get_default_session instead.\n",
            "\n",
            "WARNING:tensorflow:From /usr/local/lib/python3.6/dist-packages/keras/backend/tensorflow_backend.py:197: The name tf.ConfigProto is deprecated. Please use tf.compat.v1.ConfigProto instead.\n",
            "\n",
            "WARNING:tensorflow:From /usr/local/lib/python3.6/dist-packages/keras/backend/tensorflow_backend.py:207: The name tf.global_variables is deprecated. Please use tf.compat.v1.global_variables instead.\n",
            "\n",
            "WARNING:tensorflow:From /usr/local/lib/python3.6/dist-packages/keras/backend/tensorflow_backend.py:216: The name tf.is_variable_initialized is deprecated. Please use tf.compat.v1.is_variable_initialized instead.\n",
            "\n",
            "WARNING:tensorflow:From /usr/local/lib/python3.6/dist-packages/keras/backend/tensorflow_backend.py:223: The name tf.variables_initializer is deprecated. Please use tf.compat.v1.variables_initializer instead.\n",
            "\n",
            "25000/25000 [==============================] - 91s 4ms/step - loss: 0.4327 - acc: 0.7929 - val_loss: 0.3926 - val_acc: 0.8248\n",
            "Epoch 2/10\n",
            "25000/25000 [==============================] - 66s 3ms/step - loss: 0.2587 - acc: 0.8988 - val_loss: 0.3827 - val_acc: 0.8286\n",
            "Epoch 3/10\n",
            "25000/25000 [==============================] - 65s 3ms/step - loss: 0.1641 - acc: 0.9387 - val_loss: 0.4335 - val_acc: 0.8282\n",
            "Epoch 4/10\n",
            "25000/25000 [==============================] - 65s 3ms/step - loss: 0.1062 - acc: 0.9627 - val_loss: 0.5269 - val_acc: 0.8214\n",
            "Epoch 5/10\n",
            "25000/25000 [==============================] - 65s 3ms/step - loss: 0.0713 - acc: 0.9748 - val_loss: 0.6100 - val_acc: 0.8211\n",
            "Epoch 6/10\n",
            "25000/25000 [==============================] - 66s 3ms/step - loss: 0.0487 - acc: 0.9844 - val_loss: 0.7580 - val_acc: 0.8169\n",
            "Epoch 7/10\n",
            "25000/25000 [==============================] - 66s 3ms/step - loss: 0.0422 - acc: 0.9864 - val_loss: 0.7367 - val_acc: 0.8100\n",
            "Epoch 8/10\n",
            "25000/25000 [==============================] - 67s 3ms/step - loss: 0.0267 - acc: 0.9912 - val_loss: 0.8603 - val_acc: 0.8176\n",
            "Epoch 9/10\n",
            "25000/25000 [==============================] - 68s 3ms/step - loss: 0.0234 - acc: 0.9935 - val_loss: 1.0522 - val_acc: 0.8067\n",
            "Epoch 10/10\n",
            "25000/25000 [==============================] - 68s 3ms/step - loss: 0.0262 - acc: 0.9919 - val_loss: 0.8885 - val_acc: 0.8162\n"
          ],
          "name": "stdout"
        },
        {
          "output_type": "execute_result",
          "data": {
            "text/plain": [
              "<keras.callbacks.History at 0x7f7e6bd81908>"
            ]
          },
          "metadata": {
            "tags": []
          },
          "execution_count": 5
        }
      ]
    },
    {
      "cell_type": "markdown",
      "metadata": {
        "id": "_1zk1kbMfFx2",
        "colab_type": "text"
      },
      "source": [
        "Evaluate the model"
      ]
    },
    {
      "cell_type": "code",
      "metadata": {
        "id": "7e3T3p-60CSz",
        "colab_type": "code",
        "colab": {
          "base_uri": "https://localhost:8080/",
          "height": 68
        },
        "outputId": "560d4c89-4222-447a-bab2-6a3dfa3d5b00"
      },
      "source": [
        "score, acc = model.evaluate(x_test, y_test, batch_size=batch_size)\n",
        "print(f'Test score = {score}')\n",
        "print(f'Test accuracy = {acc}')"
      ],
      "execution_count": 6,
      "outputs": [
        {
          "output_type": "stream",
          "text": [
            "25000/25000 [==============================] - 15s 612us/step\n",
            "Test score = 0.8885007614523173\n",
            "Test accuracy = 0.81616\n"
          ],
          "name": "stdout"
        }
      ]
    },
    {
      "cell_type": "markdown",
      "metadata": {
        "id": "UVbhTCRyfS62",
        "colab_type": "text"
      },
      "source": [
        "Making predictions with model"
      ]
    },
    {
      "cell_type": "code",
      "metadata": {
        "id": "W-ITY-7Mhc8X",
        "colab_type": "code",
        "colab": {
          "base_uri": "https://localhost:8080/",
          "height": 68
        },
        "outputId": "ec27d601-bea1-4a9a-c552-91b677f5a825"
      },
      "source": [
        "#review = \"The movie was a great waste of time.\"\n",
        "review = \"It was a great movie.\"\n",
        "print(f'New review = {review}')\n",
        "\n",
        "d = imdb.get_word_index()\n",
        "words = review.split()\n",
        "review = []\n",
        "\n",
        "for word in words:\n",
        "  if word not in d:\n",
        "    review.append(2)\n",
        "  else:\n",
        "    review.append(d[word] + 3)\n",
        "  \n",
        "print(f\"review = {review}\")\n",
        "\n",
        "review = sequence.pad_sequences([review], truncating='pre', padding='pre', maxlen=80)\n",
        "\n",
        "prediction = model.predict(review)\n",
        "print(f'Prediction (0 = Negative, 1 = positive) = {prediction}')"
      ],
      "execution_count": 14,
      "outputs": [
        {
          "output_type": "stream",
          "text": [
            "New review = It was a great movie.\n",
            "review = [2, 16, 6, 87, 2]\n",
            "Prediction (0 = Negative, 1 = positive) = [[0.67252386]]\n"
          ],
          "name": "stdout"
        }
      ]
    },
    {
      "cell_type": "code",
      "metadata": {
        "id": "KbcPum0k2kX_",
        "colab_type": "code",
        "colab": {}
      },
      "source": [
        ""
      ],
      "execution_count": 0,
      "outputs": []
    }
  ]
}